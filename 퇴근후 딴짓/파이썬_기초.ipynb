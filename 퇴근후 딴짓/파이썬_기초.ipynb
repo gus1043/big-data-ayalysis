{
  "nbformat": 4,
  "nbformat_minor": 0,
  "metadata": {
    "colab": {
      "provenance": [],
      "authorship_tag": "ABX9TyMM0fKc+ocbRHwDXTttkdtf",
      "include_colab_link": true
    },
    "kernelspec": {
      "name": "python3",
      "display_name": "Python 3"
    },
    "language_info": {
      "name": "python"
    }
  },
  "cells": [
    {
      "cell_type": "markdown",
      "metadata": {
        "id": "view-in-github",
        "colab_type": "text"
      },
      "source": [
        "<a href=\"https://colab.research.google.com/github/gus1043/big-data-ayalysis/blob/main/%ED%87%B4%EA%B7%BC%ED%9B%84%20%EB%94%B4%EC%A7%93/%ED%8C%8C%EC%9D%B4%EC%8D%AC_%EA%B8%B0%EC%B4%88.ipynb\" target=\"_parent\"><img src=\"https://colab.research.google.com/assets/colab-badge.svg\" alt=\"Open In Colab\"/></a>"
      ]
    },
    {
      "cell_type": "code",
      "execution_count": null,
      "metadata": {
        "colab": {
          "base_uri": "https://localhost:8080/"
        },
        "id": "CblZ93tyomGP",
        "outputId": "e3820672-f245-4af2-cf62-df9fb11b9d82"
      },
      "outputs": [
        {
          "output_type": "execute_result",
          "data": {
            "text/plain": [
              "['감사', '행복', '사랑', '습관', '긍정', '변화', '성장', '공감', '희망']"
            ]
          },
          "metadata": {},
          "execution_count": 15
        }
      ],
      "source": [
        "listbox = [\"감사\", \"행복\", \"사랑\", \"습관\", \"긍정\", \"변화\", \"성장\", \"공감\", \"희망\"]\n",
        "listbox"
      ]
    },
    {
      "cell_type": "code",
      "source": [
        "len(listbox)"
      ],
      "metadata": {
        "colab": {
          "base_uri": "https://localhost:8080/"
        },
        "id": "4Jl3nL3Po30E",
        "outputId": "12ccace5-2338-4614-bb9f-9cb856c8dc88"
      },
      "execution_count": null,
      "outputs": [
        {
          "output_type": "execute_result",
          "data": {
            "text/plain": [
              "9"
            ]
          },
          "metadata": {},
          "execution_count": 16
        }
      ]
    },
    {
      "cell_type": "code",
      "source": [
        "listbox[0]"
      ],
      "metadata": {
        "colab": {
          "base_uri": "https://localhost:8080/",
          "height": 36
        },
        "id": "NCO8Q5TUrS91",
        "outputId": "bf80dd32-1372-426e-fe0b-216c16ed8608"
      },
      "execution_count": null,
      "outputs": [
        {
          "output_type": "execute_result",
          "data": {
            "text/plain": [
              "'감사'"
            ],
            "application/vnd.google.colaboratory.intrinsic+json": {
              "type": "string"
            }
          },
          "metadata": {},
          "execution_count": 17
        }
      ]
    },
    {
      "cell_type": "code",
      "source": [
        "listbox[-1]"
      ],
      "metadata": {
        "colab": {
          "base_uri": "https://localhost:8080/",
          "height": 36
        },
        "id": "D074MArOrUjK",
        "outputId": "f4826051-b1b8-43f9-fa09-0fff0e314fa4"
      },
      "execution_count": null,
      "outputs": [
        {
          "output_type": "execute_result",
          "data": {
            "text/plain": [
              "'희망'"
            ],
            "application/vnd.google.colaboratory.intrinsic+json": {
              "type": "string"
            }
          },
          "metadata": {},
          "execution_count": 18
        }
      ]
    },
    {
      "cell_type": "code",
      "source": [
        "listbox[0:3]"
      ],
      "metadata": {
        "colab": {
          "base_uri": "https://localhost:8080/"
        },
        "id": "BGlxZw31rXpv",
        "outputId": "a225680a-64c4-462b-8c48-f38f1adcc507"
      },
      "execution_count": null,
      "outputs": [
        {
          "output_type": "execute_result",
          "data": {
            "text/plain": [
              "['감사', '행복', '사랑']"
            ]
          },
          "metadata": {},
          "execution_count": 19
        }
      ]
    },
    {
      "cell_type": "code",
      "source": [
        "listbox[-2]"
      ],
      "metadata": {
        "colab": {
          "base_uri": "https://localhost:8080/",
          "height": 36
        },
        "id": "dPPkLDzLraXd",
        "outputId": "90ab126d-0e31-4c8e-bb14-9fff19c67ed8"
      },
      "execution_count": null,
      "outputs": [
        {
          "output_type": "execute_result",
          "data": {
            "text/plain": [
              "'공감'"
            ],
            "application/vnd.google.colaboratory.intrinsic+json": {
              "type": "string"
            }
          },
          "metadata": {},
          "execution_count": 20
        }
      ]
    },
    {
      "cell_type": "code",
      "source": [
        "listbox[1:3]"
      ],
      "metadata": {
        "colab": {
          "base_uri": "https://localhost:8080/"
        },
        "id": "_sfsR9KErcM3",
        "outputId": "8d7033b6-665c-4888-b3c2-094ea38bdadf"
      },
      "execution_count": null,
      "outputs": [
        {
          "output_type": "execute_result",
          "data": {
            "text/plain": [
              "['행복', '사랑']"
            ]
          },
          "metadata": {},
          "execution_count": 21
        }
      ]
    },
    {
      "cell_type": "code",
      "source": [
        "for i in range(5):\n",
        "  print(i)"
      ],
      "metadata": {
        "colab": {
          "base_uri": "https://localhost:8080/"
        },
        "id": "602XNWcArenD",
        "outputId": "7cfe7160-0a70-4fc9-ded8-60d0439f3238"
      },
      "execution_count": null,
      "outputs": [
        {
          "output_type": "stream",
          "name": "stdout",
          "text": [
            "0\n",
            "1\n",
            "2\n",
            "3\n",
            "4\n"
          ]
        }
      ]
    },
    {
      "cell_type": "code",
      "source": [
        "for i in range(5,10):\n",
        "  print(i)"
      ],
      "metadata": {
        "colab": {
          "base_uri": "https://localhost:8080/"
        },
        "id": "c0VHYgEksB6X",
        "outputId": "ae58db03-849d-4f28-a0bb-a693e9a0c968"
      },
      "execution_count": null,
      "outputs": [
        {
          "output_type": "stream",
          "name": "stdout",
          "text": [
            "5\n",
            "6\n",
            "7\n",
            "8\n",
            "9\n"
          ]
        }
      ]
    },
    {
      "cell_type": "code",
      "source": [
        "listbox = [2,4,6,8,10]\n",
        "for i in listbox:\n",
        "  print(i)"
      ],
      "metadata": {
        "colab": {
          "base_uri": "https://localhost:8080/"
        },
        "id": "v71GYPMYsHkl",
        "outputId": "0ba355db-f76e-47d3-996e-517160b4296a"
      },
      "execution_count": null,
      "outputs": [
        {
          "output_type": "stream",
          "name": "stdout",
          "text": [
            "2\n",
            "4\n",
            "6\n",
            "8\n",
            "10\n"
          ]
        }
      ]
    },
    {
      "cell_type": "code",
      "source": [
        "for i in listbox:\n",
        "  print(i+1)"
      ],
      "metadata": {
        "colab": {
          "base_uri": "https://localhost:8080/"
        },
        "id": "vJfHiiMpsLRW",
        "outputId": "aaa93996-aeca-4422-9615-ae407ae2a9a6"
      },
      "execution_count": null,
      "outputs": [
        {
          "output_type": "stream",
          "name": "stdout",
          "text": [
            "3\n",
            "5\n",
            "7\n",
            "9\n",
            "11\n"
          ]
        }
      ]
    },
    {
      "cell_type": "code",
      "source": [
        "listbox=[\"네모\", \"세모\", \"동그라미\"]\n",
        "for i in listbox:\n",
        "  print(i)"
      ],
      "metadata": {
        "colab": {
          "base_uri": "https://localhost:8080/"
        },
        "id": "BGiZtBk1sUfQ",
        "outputId": "7c83557f-374b-4356-a56c-77c2fb8f58b6"
      },
      "execution_count": null,
      "outputs": [
        {
          "output_type": "stream",
          "name": "stdout",
          "text": [
            "네모\n",
            "세모\n",
            "동그라미\n"
          ]
        }
      ]
    },
    {
      "cell_type": "code",
      "source": [
        "listbox=[\"네모\", \"세모\", \"동그라미\", \"별\"]\n",
        "for idx, item in enumerate(listbox):\n",
        "  print(idx, item)\n",
        "  print(f'{item}',item)"
      ],
      "metadata": {
        "colab": {
          "base_uri": "https://localhost:8080/"
        },
        "id": "CQeQ5-7XsaQp",
        "outputId": "3fd1fd1d-1313-41bf-d27c-c9c266185140"
      },
      "execution_count": null,
      "outputs": [
        {
          "output_type": "stream",
          "name": "stdout",
          "text": [
            "0 네모\n",
            "네모 네모\n",
            "1 세모\n",
            "세모 세모\n",
            "2 동그라미\n",
            "동그라미 동그라미\n",
            "3 별\n",
            "별 별\n"
          ]
        }
      ]
    },
    {
      "cell_type": "code",
      "source": [
        "listbox = [15,46,78,24,56]\n",
        "def min_max(list):\n",
        "  return max(list), min(list)\n",
        "\n",
        "print(min_max(listbox))"
      ],
      "metadata": {
        "colab": {
          "base_uri": "https://localhost:8080/"
        },
        "id": "81N78UzSskzt",
        "outputId": "418c044e-adc2-455f-e4ab-98a7f25f09e6"
      },
      "execution_count": null,
      "outputs": [
        {
          "output_type": "stream",
          "name": "stdout",
          "text": [
            "(78, 15)\n"
          ]
        }
      ]
    },
    {
      "cell_type": "code",
      "source": [
        "def avg(list):\n",
        "  return sum(list)/len(list)\n",
        "\n",
        "print(avg(listbox))"
      ],
      "metadata": {
        "colab": {
          "base_uri": "https://localhost:8080/"
        },
        "id": "lDcSpr3xtatY",
        "outputId": "c3b921bf-e738-4eb0-b755-b32617b704a1"
      },
      "execution_count": null,
      "outputs": [
        {
          "output_type": "stream",
          "name": "stdout",
          "text": [
            "43.8\n"
          ]
        }
      ]
    },
    {
      "cell_type": "code",
      "source": [
        "def diff_minmax(list):\n",
        "  return max(list)-min(list)\n",
        "print(diff_minmax(listbox))"
      ],
      "metadata": {
        "colab": {
          "base_uri": "https://localhost:8080/"
        },
        "id": "F2V2tRG3tg0U",
        "outputId": "f718f659-a87e-423b-839e-4a189a1367cd"
      },
      "execution_count": null,
      "outputs": [
        {
          "output_type": "stream",
          "name": "stdout",
          "text": [
            "63\n"
          ]
        }
      ]
    },
    {
      "cell_type": "code",
      "source": [],
      "metadata": {
        "id": "uoRu2FkyhDK_"
      },
      "execution_count": null,
      "outputs": []
    }
  ]
}